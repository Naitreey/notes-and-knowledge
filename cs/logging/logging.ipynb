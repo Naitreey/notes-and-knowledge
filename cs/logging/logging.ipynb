{
 "cells": [
  {
   "attachments": {},
   "cell_type": "markdown",
   "metadata": {},
   "source": [
    "# 记录日志的方法\n",
    "\n",
    "## 对于长期运行的进程\n",
    "\n",
    "-   如果你能访问 production system, 并且能够实时 debug, 那就只在开发时记日志,\n",
    "    这些日志只是便于开发; 放到生产系统之后, 则关掉 (绝大部分) 日志, 主要依赖\n",
    "    exception handling 和 core dump 等自动的报错机制.\n",
    "\n",
    "    在一些情况下, 日志是必须的. 例如:\n",
    "    \n",
    "    *   程序需要快速地记录错误, 但返回给 caller 转义后的 (美化过的) 结果.\n",
    "        从最终记录的数据信息不能有效定位原始错误是什么.\n",
    "\n",
    "-   如果不能访问, 就只能多记录一些日志.\n",
    "\n",
    "无论哪种情况, 都需要仔细考虑任意一处日志是否必要, 只在绝对必要的地方写日志.\n",
    "Resist the tendency to log everything.\n",
    "\n",
    "# 记录地址的地方\n",
    "\n",
    "## long-running program\n",
    "比较完善的做法是, 日志单独开一个 stream\n",
    "输出至一个文件或一个目录 (rolling periodically). 日志不占用 stdout, stderr.\n",
    "这两个标准流用于输出需要在 terminal 中输出的信息. 例如, stderr 仅输\n",
    "出那些完全意外的信息, 即不是写在程序里的日志, 而是 uncaught exception,\n",
    "segfault 等不可控, 也不该控制的绝对错误. 对于具有 exception 机制的语言,\n",
    "应该在最外层包含一个 \"catch all, log error and reraise/print-to-stderr\" 语句,\n",
    "这样 uncaught exception 在输出至 stderr 的同时也输出在日志中, 方便理解发生错误\n",
    "的 context. stdout 则平时可以空闲, 也可以输出比如 `--help`, `--version` 等信息.\n",
    "当程序长期运行时, stdout 与 stderr 可以一起转至一个文件, 阅读起来方便.\n",
    "\n",
    "## one-off program\n",
    "一般不具有日志, 但开启 verbose/debug mode 后,\n",
    "相关信息也相当于日志, 应输出至 stderr (是否开启 verbose/debug, 可通过\n",
    "handler 是否添加等方式实现). 特殊比如 make, 则单开 stream 写日志.\n",
    "\n",
    "# 日志的内容\n",
    "日志信息应该是 verbose 的能描述清晰所记内容的完整英文句子. 不要怕太长, 不要嫌\n",
    "写得多.\n",
    "\n",
    "# 日志工具的选择\n",
    "-   简单的 print 类型的工具不是日志, 而是 generic outputing.\n",
    "    日志是一种格式化的目的明确的输出. 一般通过一个专一的模块\n",
    "    很好地设计和实现. 对于它实现的功能, print 等都相当于底层的\n",
    "    building block.\n",
    "\n",
    "# 日志等级\n",
    "-   NOTSET\n",
    "-   DEBUG\n",
    "-   INFO\n",
    "-   WARNING\n",
    "-   ERROR\n",
    "-   CRITICAL\n",
    "\n",
    "根据 verbose level 调整输出的日志等级. 一般运行时设置 WARNING+, 研发时设置\n",
    "DEBUG.\n",
    "\n"
   ]
  }
 ],
 "metadata": {
  "kernelspec": {
   "display_name": "Python 3",
   "language": "python",
   "name": "python3"
  },
  "language_info": {
   "codemirror_mode": {
    "name": "ipython",
    "version": 3
   },
   "file_extension": ".py",
   "mimetype": "text/x-python",
   "name": "python",
   "nbconvert_exporter": "python",
   "pygments_lexer": "ipython3",
   "version": "3.6.5"
  }
 },
 "nbformat": 4,
 "nbformat_minor": 2
}
