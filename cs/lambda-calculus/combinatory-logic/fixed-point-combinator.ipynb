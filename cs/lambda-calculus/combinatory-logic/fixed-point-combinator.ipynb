{
 "cells": [
  {
   "cell_type": "markdown",
   "metadata": {},
   "source": [
    "# overview\n",
    "A combinator is a closed lambda expression, meaning that it has no free variables.\n",
    "\n",
    "a fixed-point combinator 是一个 higher-order function, 应用在一个函数 $f$ 上之后\n",
    "给出 $f$ 的 fixed point. 也就是说, $x = \\operatorname{fix} f$ 是 fixed point equation\n",
    "$$x=f x$$ 的解.\n",
    "\n",
    "The fixed-point combinator satisfies the equation:\n",
    "$$ \\operatorname{fix} f = f (\\operatorname{fix} f) \\;\\; \\text{for all $f$}$$\n",
    "\n",
    "# Y combinator\n",
    "\n",
    "Y combinator is a fixed-point combinator, discovered by Haskell Curry.\n",
    "\n",
    "-   normal-order Y combinator (for lazy language)\n",
    "\n",
    "    $$\\operatorname{Y} = \\operatorname{\\lambda} f.(\\operatorname{\\lambda} x.f(x \\; x))(\\operatorname{\\lambda} x.f(x \\; x))$$\n",
    "\n",
    "-   applicative-order Y combinator (for strict language)\n",
    "\n",
    "    $$\\operatorname{Y} = \\operatorname{\\lambda} f.(\\operatorname{\\lambda} x.f(\\operatorname{\\lambda} y.((x \\; x)\\; y))) \\; (\\operatorname{\\lambda} x.f(\\operatorname{\\lambda} y.((x \\; x) \\; y)))$$\n",
    "\n",
    "    上式中, $\\operatorname{\\lambda} y$ 部分是作为 $\\operatorname{fix}f$ 传入\n",
    "    $f$ 的, 因此 $y$ 需要符合要求的函数的 signature 的参数形式, 即 $y$ 可能是\n",
    "    矢量.\n",
    "\n",
    "## application\n",
    "\n",
    "the Y combinator can be used to formally define recursive functions in a\n",
    "programming language that does not support recursion, but support first-class\n",
    "functions.\n",
    "\n",
    "对于一个不支持递归的语言, 在函数体中不支持再次调用函数本身. 一个递归算法的\n",
    "最自然的实现当然是要在函数体中调用函数本身的. 我们可以把这个算法的递归调用的\n",
    "部分提取出来成为函数的一个参数. 这样新构建的函数就是上述 $f$. 这个函数不包含\n",
    "递归运算 (不含 free variables). 应用 $\\operatorname{Y} f$ 即得到原递归算法的\n",
    "非递归形式 (同样地, 不含 free variables).\n",
    "\n",
    "对于 $f$, 它的不动点函数就是算法实现本身. 这是因为, 设要求的函数是 $g$, 则有\n",
    "$g = f(g)$, 其中 $f$ 是新构建的函数非递归函数. 因此 $g= \\operatorname{Y} f$.\n",
    "\n",
    "# references\n",
    "\n",
    "-   [The Y Combinator](https://mvanier.livejournal.com/2897.html), Mike's\n",
    "    World-O-Programming.\n",
    "\n"
   ]
  }
 ],
 "metadata": {
  "kernelspec": {
   "display_name": "Python 3",
   "language": "python",
   "name": "python3"
  },
  "language_info": {
   "codemirror_mode": {
    "name": "ipython",
    "version": 3
   },
   "file_extension": ".py",
   "mimetype": "text/x-python",
   "name": "python",
   "nbconvert_exporter": "python",
   "pygments_lexer": "ipython3",
   "version": "3.6.4"
  }
 },
 "nbformat": 4,
 "nbformat_minor": 2
}
