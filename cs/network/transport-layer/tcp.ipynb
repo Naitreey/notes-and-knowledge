{
 "cells": [
  {
   "cell_type": "markdown",
   "metadata": {},
   "source": [
    "# TCP: The problem\n",
    "问题: 在有损的、不可靠的环境下, 如何保证数据传输的完整可靠性?\n",
    "需要解决的问题包含: packet bit error, packet drop, packet reordering,\n",
    "packet duplication.\n",
    "\n",
    "-   solution 1: Use error-correcting code (ECC) (code -- 编码).\n",
    "\n",
    "-   solution 2: automatic repeat request (ARQ), i.e., simply try again until\n",
    "    information is successfully received.\n",
    "\n",
    "ARQ approach is the basis for many communication protocols, including TCP.\n",
    "\n",
    "## ARQ\n",
    "\n",
    "# overview\n",
    "-   TCP: Transmission Control Protocol\n",
    "\n",
    "-   TCP checksum 的可靠性.\n",
    "\n",
    "    TCP 的 checksum 是 16-bit internet checksum. 而 IP headers + TCP headers +\n",
    "    应用数据, 三项的数值求和可能是远大于 16-bit 的上限 65536. 因此很多个不同的\n",
    "    求和值结果最终会计算成一个 checksum (对求和结果 modulo $2^{16}$ 导致).\n",
    "\n",
    "    计算 internet checksum 的出错率. 设数据求和值位于样本空间 $2^N$, 其中 $N>16$.\n",
    "    则出错率计算为 $$P_{\\epsilon} = \\frac{C_{\\epsilon}}{C_{total}}$$.\n",
    "    其中 $C_{\\epsilon}$ 为所有出错的情况, 在样本空间 $2^N$ 中,\n",
    "    $\\operatorname{mod} 2^{16}$ 得到相同值的样本数共有 $2^{N-16}$, 出错的是 $2^{N-16} -1$.\n",
    "    $C_{total}$ 为所有出错和没出错的情况, 对于没出错的情况, 包含计算正确和计算错误\n",
    "    并且正确识别出来的情况. 故为样本合集 $2^N$. 得到\n",
    "    $$P_{\\epsilon} \\approx \\frac{1}{2^{16}} = 1.5 \\times 10^{-5} $$\n",
    "    \n",
    "    即, TCP checksum 可以在 99.998% 的概率上保证数据是完整和正确的, 因此对于绝大部分的数据\n",
    "    完整性要求情况, 应用层协议不需要实现 checksum 来再次验证数据完整性. 只有对数据完整性要求\n",
    "    很高, 要求数据绝不会出错时, 才需要在应用层协议中或应用中使用更强的 checksum 进行校验.\n",
    "\n"
   ]
  }
 ],
 "metadata": {
  "kernelspec": {
   "display_name": "Python 3",
   "language": "python",
   "name": "python3"
  },
  "language_info": {
   "codemirror_mode": {
    "name": "ipython",
    "version": 3
   },
   "file_extension": ".py",
   "mimetype": "text/x-python",
   "name": "python",
   "nbconvert_exporter": "python",
   "pygments_lexer": "ipython3",
   "version": "3.6.4"
  }
 },
 "nbformat": 4,
 "nbformat_minor": 2
}
