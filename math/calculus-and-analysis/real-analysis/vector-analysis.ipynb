{
 "cells": [
  {
   "cell_type": "markdown",
   "metadata": {},
   "source": [
    "# vector-valued function\n",
    "\n",
    "值域为多维矢量的集合的函数. 注意对定义域没有要求, 可以是标量, 也可以是任意维度的矢量.\n",
    "\n",
    "例子:\n",
    "-   自变量为标量, 值为矢量: 参数曲线.\n",
    "    $$\\vec{r}(t) = f(t)\\hat{i}+g(t)\\hat{j}+h(t)\\hat{k}$$\n",
    "-   自变量为 2 维矢量, 值为 3 维矢量: 参数曲面.\n",
    "    $$(x,y,z) = (f(s,t), g(s,t), h(s,t)) \\equiv F(s,t)$$\n",
    "-   自变量为 n 维矢量, 值为 m 维矢量. 矩阵.\n",
    "    $$\\mathbf{y} = \\mathbf{A}\\mathbf{x}+\\mathbf{b}$$\n"
   ]
  },
  {
   "cell_type": "code",
   "execution_count": null,
   "metadata": {},
   "outputs": [],
   "source": []
  }
 ],
 "metadata": {
  "kernelspec": {
   "display_name": "Python 3",
   "language": "python",
   "name": "python3"
  },
  "language_info": {
   "codemirror_mode": {
    "name": "ipython",
    "version": 3
   },
   "file_extension": ".py",
   "mimetype": "text/x-python",
   "name": "python",
   "nbconvert_exporter": "python",
   "pygments_lexer": "ipython3",
   "version": "3.6.4"
  }
 },
 "nbformat": 4,
 "nbformat_minor": 2
}
