{
 "cells": [
  {
   "cell_type": "markdown",
   "metadata": {},
   "source": [
    "# total derivatives\n",
    "\n",
    "在多元函数 $f(t, x(t), y(t))$ 中, 全导数表达的是, 一个量 $t$ 的变化导致的函数值的变化情况.\n",
    "它考虑了 t 对函数的全部影响, 即 t 导致的函数其他参数的变化. 而不是像偏导数那样, 假设所有其他\n",
    "显性变量都是固定不变的.\n",
    "\n",
    "偏导数给出的是函数 $f$ 在某个自变量方向上的变化率, 即 $\\nabla f \\cdot \\vec{n_i}$, 它只是\n",
    "在特定的座标系统下的沿座标轴的梯度分量, 是取决于座标系的选择的.\n",
    "而函数对 $t$ 的全导数则给出的是函数相对于该参数的全局的变化率, 独立于座标系的选取.\n",
    "若以 $t$ 和其他独立变量组成\n",
    "座标系统, 则 f 对 t 的全导数就是在这个座标下, $\\nabla f$ 在 t 方向上的分量.\n",
    "\n",
    "$$\\frac{\\operatorname d f(t, x(t), y(t))}{\\operatorname d t} = \\frac{\\partial f}{\\partial t}\\frac{\\operatorname d t}{\\operatorname d t}\n",
    "+ \\frac{\\partial f}{\\partial x}\\frac{\\operatorname d f}{\\operatorname d t} + \\frac{\\partial f}{\\partial y}\\frac{\\operatorname d f}{\\operatorname d y}$$\n",
    "\n",
    "推广, $M(t, p_1, ..., p_n)$, 其中 $p_i$ 依赖于 $t$, 则 $M$ 相对于 $t$ 的全导数:\n",
    "$$\n",
    "{\\operatorname dM \\over \\operatorname dt}\n",
    "= \\frac{\\partial M}{\\partial t} + \\sum_{i=1}^n \\frac{\\partial M}{\\partial p_i}\\frac{\\operatorname dp_i}{\\operatorname dt}\n",
    "= \\biggl(\\frac{\\partial}{\\partial t} + \\sum_{i=1}^n \\frac{\\operatorname dp_i}{\\operatorname dt}\\frac{\\partial}{\\partial p_i}\\biggr)(M)\n",
    "$$\n",
    "\n",
    "proof:\n",
    "-   全导数公式可以从链式法则推出.\n",
    "-   或者通过全微分形式去理解. 我们可以根据各个参数的无穷小量之和, 去定义 $M$ 的无穷小变化, 即全微分:\n",
    "$$\\operatorname dM = \\frac{\\partial M}{\\partial t} \\operatorname dt + \\sum_{i=1}^n \\frac{\\partial M}{\\partial p_i}\\operatorname dp_i$$\n",
    "两边除以 $\\operatorname d t$ 得到全导数.\n",
    "\n",
    "# differentiation rules\n",
    "\n",
    "理论上, 任何一个复杂函数的导函数都可通过导数定义求解, 只不过非常费劲或难以做到.\n",
    "这些求导法则存在的意义就是将一个复杂的求导过程简化为多个相对简单的步骤.\n",
    "\n",
    "这些法则之所以成立, 都是可以从导数定义推出的.\n",
    "\n",
    "## chain rule\n",
    "\n",
    "chain rule 用于方便地计算复合函数的导数.\n",
    "$$(f \\circ g)' = (f' \\circ g)\\cdot g' (\\mbox{Lagrange's notation})$$\n",
    "$$\\frac{dz}{dx}=\\frac{dz}{dy}\\frac{dy}{dx} (\\mbox{Leibniz's notation})$$\n",
    "$z = z(y(x))$, 即可以在 $z$ 中定义 $y$, 令 $z$ 只显性依赖 $y$, 而 $y$ 显性\n",
    "依赖 $x$. 条件是 $z$ 在 $y(x)$ 点以及 $y$ 在 $x$ 点都是可导的.\n",
    "\n",
    "我们可以递归地应用链式法则, 从而解决多层函数复合的问题. 定义 $f_{a..b} = f_a \\circ f_{a+1} \\circ ... \\circ f_b$, 则\n",
    "$$D f_{1..n} = \\prod_{k=1}^n \\left[D f_k \\circ f_{(k+1)..n}\\right] $$\n",
    "\n",
    "proof: 链式法则可由导数的定义推出.\n",
    "\n",
    "## quotient rule\n",
    "可由链式法则推出.\n",
    "\n",
    "## derivatives of inverse functions\n",
    "可由链式法则推出."
   ]
  },
  {
   "cell_type": "code",
   "execution_count": null,
   "metadata": {},
   "outputs": [],
   "source": []
  }
 ],
 "metadata": {
  "kernelspec": {
   "display_name": "Python 3",
   "language": "python",
   "name": "python3"
  },
  "language_info": {
   "codemirror_mode": {
    "name": "ipython",
    "version": 3
   },
   "file_extension": ".py",
   "mimetype": "text/x-python",
   "name": "python",
   "nbconvert_exporter": "python",
   "pygments_lexer": "ipython3",
   "version": "3.6.4"
  }
 },
 "nbformat": 4,
 "nbformat_minor": 2
}
