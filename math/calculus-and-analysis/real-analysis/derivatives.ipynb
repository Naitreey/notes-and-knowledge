{
 "cells": [
  {
   "cell_type": "markdown",
   "metadata": {},
   "source": [
    "# differentiation rules\n",
    "\n",
    "理论上, 任何一个复杂函数的导函数都可通过导数定义求解, 只不过非常费劲或难以做到.\n",
    "这些求导法则存在的意义就是将一个复杂的求导过程简化为多个相对简单的步骤.\n",
    "\n",
    "这些法则之所以成立, 都是可以从导数定义推出的.\n",
    "\n",
    "## chain rule\n",
    "\n",
    "chain rule 用于方便地计算复合函数的导数.\n",
    "$$(f \\circ g)' = (f' \\circ g)\\cdot g' (\\mbox{Lagrange's notation})$$\n",
    "$$\\frac{dz}{dx}=\\frac{dz}{dy}\\frac{dy}{dx} (\\mbox{Leibniz's notation})$$\n",
    "$z = z(y(x))$, 即可以在 $z$ 中定义 $y$, 令 $z$ 只显性依赖 $y$, 而 $y$ 显性\n",
    "依赖 $x$. 条件是 $z$ 在 $y(x)$ 点以及 $y$ 在 $x$ 点都是可导的.\n",
    "\n",
    "我们可以递归地应用链式法则, 从而解决多层函数复合的问题. 定义 $f_{a..b} = f_a \\circ f_{a+1} \\circ ... \\circ f_b$, 则\n",
    "$$D f_{1..n} = \\prod_{k=1}^n \\left[D f_k \\circ f_{(k+1)..n}\\right] $$\n",
    "\n",
    "## quotient rule\n",
    "可由链式法则推出.\n",
    "\n",
    "## derivatives of inverse functions\n",
    "可由链式法则推出."
   ]
  },
  {
   "cell_type": "code",
   "execution_count": null,
   "metadata": {},
   "outputs": [],
   "source": []
  }
 ],
 "metadata": {
  "kernelspec": {
   "display_name": "Python 3",
   "language": "python",
   "name": "python3"
  },
  "language_info": {
   "codemirror_mode": {
    "name": "ipython",
    "version": 3
   },
   "file_extension": ".py",
   "mimetype": "text/x-python",
   "name": "python",
   "nbconvert_exporter": "python",
   "pygments_lexer": "ipython3",
   "version": "3.6.3"
  }
 },
 "nbformat": 4,
 "nbformat_minor": 2
}
