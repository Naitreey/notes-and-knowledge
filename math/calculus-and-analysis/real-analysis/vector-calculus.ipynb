{
 "cells": [
  {
   "cell_type": "markdown",
   "metadata": {},
   "source": [
    "# vector-valued function\n",
    "\n",
    "值域为多维矢量的集合的函数. 注意对定义域没有要求, 可以是标量, 也可以是任意维度的矢量.\n",
    "\n",
    "例子:\n",
    "-   自变量为标量, 值为矢量: 参数曲线.\n",
    "    $$\\vec{r}(t) = f(t)\\hat{i}+g(t)\\hat{j}+h(t)\\hat{k}$$\n",
    "-   自变量为 2 维矢量, 值为 3 维矢量: 参数曲面.\n",
    "    $$(x,y,z) = (f(s,t), g(s,t), h(s,t)) \\equiv F(s,t)$$\n",
    "-   自变量为 n 维矢量, 值为 m 维矢量. 矩阵.\n",
    "    $$\\mathbf{y} = \\mathbf{A}\\mathbf{x}+\\mathbf{b}$$\n",
    "\n",
    "# Jacobian matrix and determinant\n",
    "\n",
    "The matrix of all first-order partial derivatives of a\n",
    "vector-valued function.\n",
    "对于函数 $\\mathbf{T}(\\mathbf{x}): \\mathbb{R}^n \\rightarrow \\mathbb{R}^m$,\n",
    "Jacobian matrix 定义为:\n",
    "$$\\mathbf{J}_\\mathbf{T} = \\frac{\\partial (T_1,\\dots,T_m)}{\\partial (x_1,\\dots,x_n)} = \\begin{bmatrix}\n",
    "    \\dfrac{\\partial \\mathbf{T}}{\\partial x_1} & \\cdots & \\dfrac{\\partial \\mathbf{T}}{\\partial x_n} \\end{bmatrix}\n",
    "= \\begin{bmatrix}\n",
    "    \\dfrac{\\partial T_1}{\\partial x_1} & \\cdots & \\dfrac{\\partial T_1}{\\partial x_n}\\\\\n",
    "    \\vdots & \\ddots & \\vdots\\\\\n",
    "    \\dfrac{\\partial T_m}{\\partial x_1} & \\cdots & \\dfrac{\\partial T_m}{\\partial x_n} \\end{bmatrix}$$\n",
    "Jacobian $\\mathbf{J}_\\mathbf{T}(\\mathbf{x})$ 是 $\\mathbf{T}$ 在 $\\mathbf{x}$ 点的全导数.\n",
    "\n",
    "the Jacobian for a scalar-valued multivariate function is the gradient and that of a scalar-valued function of single variable is simply its derivative.\n",
    "\n",
    "## Jacobian derminant and variable substitution in multiple integral\n",
    "当 $m=n$ 时, Jacobian matrix 的行列式称为 Jacobian determinant.\n",
    "Jacobian 行列式在多元积分换元计算时出现. 具体讲,\n",
    "若 $\\mathbf{T}$ 是两个座标系之间点的变换关系, 设 $\\mathbf{x}$ 为第一个座标系中的点, $\\mathbf{y}$ 为第二个座标系中的点, 而 $\\mathbf{y} = (T_1(\\mathbf{x}),\\dots,T_n(\\mathbf{x}))$, 则任意函数 $f$ 在第二个座标系中的 $R$ 区域上的积分, 可在第一个座标系中的 $S$ 区域中等价表示:\n",
    "$$\\int_R f(\\mathbf{y})\\operatorname d y_1 \\cdots \\operatorname d y_n = \\int_S f(\\mathbf{T}(\\mathbf{x})) \\left|\\mathbf{J}_\\mathbf{T}\\right|\\operatorname d x_1\\cdots \\operatorname d x_n$$\n",
    "\n",
    "该式成立是因为, 在 $\\mathbf{y}$ 座标系中的积分体积元 $\\operatorname d y_1\\cdots\\operatorname d y_n$, 在 $x$ 座标系中\n",
    "的等价表示为 $\\left|\\mathbf{J}_\\mathbf{T}\\right|\\operatorname d x_1\\cdots \\operatorname d x_n$.\n",
    "\n",
    "Proof: 体积元 $\\operatorname d V$,\n",
    "的一条边为 $\\operatorname d y_1$, 由多元函数的全微分, $\\operatorname d y_1$ 边的矢量在 $x$ 座标系表示为 \n",
    "$$\\left<\\frac{\\partial y_1}{\\partial x_1}\\operatorname d x_1,\\dots,\\frac{\\partial y_1}{\\partial x_n}\\operatorname d x_n\\right>$$, 这些矢量围成的体积就是体积元, 由于任意维度的平行六面体的体积等于它的边矢量组成的\n",
    "矩阵的行列式值, 故它在两座标系下分别表示为:\n",
    "$$A =\n",
    "\\begin{bmatrix}\n",
    "\\operatorname d y_1 & &\\\\\n",
    "& \\ddots &\\\\\n",
    "& & \\operatorname d y_n\n",
    "\\end{bmatrix}, \\operatorname d V = \\det(A) = \\operatorname d y_1\\cdots\\operatorname d y_n\n",
    "$$\n",
    "$$B =\n",
    "\\begin{bmatrix}\n",
    "\\frac{\\partial y_1}{\\partial x_1}\\operatorname d x_1 & \\cdots & \\frac{\\partial y_n}{\\partial x_1} \\operatorname d x_1 \\\\\n",
    "\\vdots & & \\vdots \\\\\n",
    "\\frac{\\partial y_1}{\\partial x_n}\\operatorname d x_n & \\cdots & \\frac{\\partial y_n}{\\partial x_n} \\operatorname d x_n\n",
    "\\end{bmatrix}\n",
    ", \\operatorname d V = \\det(B) = \\left|\\mathrm{J}\\right|\\operatorname d x_1\\cdots\\operatorname d x_n\n",
    "$$\n",
    "$\\square$"
   ]
  },
  {
   "cell_type": "code",
   "execution_count": null,
   "metadata": {},
   "outputs": [],
   "source": []
  }
 ],
 "metadata": {
  "kernelspec": {
   "display_name": "Python 3",
   "language": "python",
   "name": "python3"
  },
  "language_info": {
   "codemirror_mode": {
    "name": "ipython",
    "version": 3
   },
   "file_extension": ".py",
   "mimetype": "text/x-python",
   "name": "python",
   "nbconvert_exporter": "python",
   "pygments_lexer": "ipython3",
   "version": "3.6.4"
  }
 },
 "nbformat": 4,
 "nbformat_minor": 2
}
