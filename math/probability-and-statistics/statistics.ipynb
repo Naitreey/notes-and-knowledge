{
 "cells": [
  {
   "cell_type": "markdown",
   "metadata": {},
   "source": [
    "# mean absolute deviation vs standard deviation\n",
    "\n",
    "为什么常用的 deviation 是包含平方运算的 standard deviation, 而不是包含绝对值运算\n",
    "的 mean absolute deviation (MAE, E for error)?\n",
    "\n",
    "平方的特点:\n",
    "-   总是非负的, 故求和不会相互低效\n",
    "-   强调大偏差的数据对整体估计结果的影响\n",
    "-   平方函数是处处可导的, 因此在求极值等操作时比绝对值更方便.\n",
    "-   具有一些良好的属性, 例如 $\\sigma = \\sqrt{E[X^2]-(E[X])^2}$. 这些是基于绝对值的\n",
    "    偏差函数不具备的.\n",
    "\n",
    "绝对值的特点:\n",
    "-   总是非负的, 故求和不会相互低效\n",
    "-   无论偏差大小, 所有数据对整体估计提供相同的影响\n",
    "\n",
    "但并不是说 MAE 没有用处. 例如, 由于 MAE 本身的计算比 SD 简单, 在计算机中实现更简单和\n",
    "高效, 因此 TCP 协议中的 retransmission timeout (RTO) value 计算中, 包含 round trip time\n",
    "(RTT) 的 MAE 值, 而不是 SD 值. 所以说, 到底是使用哪种偏差函数作为依据, 要看具体情况.\n",
    "\n"
   ]
  },
  {
   "cell_type": "code",
   "execution_count": null,
   "metadata": {},
   "outputs": [],
   "source": []
  }
 ],
 "metadata": {
  "kernelspec": {
   "display_name": "Python 3",
   "language": "python",
   "name": "python3"
  },
  "language_info": {
   "codemirror_mode": {
    "name": "ipython",
    "version": 3
   },
   "file_extension": ".py",
   "mimetype": "text/x-python",
   "name": "python",
   "nbconvert_exporter": "python",
   "pygments_lexer": "ipython3",
   "version": "3.6.4"
  }
 },
 "nbformat": 4,
 "nbformat_minor": 2
}
