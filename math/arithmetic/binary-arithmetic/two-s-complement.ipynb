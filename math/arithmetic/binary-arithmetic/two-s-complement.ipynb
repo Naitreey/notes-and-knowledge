{
 "cells": [
  {
   "cell_type": "markdown",
   "metadata": {},
   "source": [
    "# definition\n",
    "数值定义. 对于 N-bit two's complement number system, 最高位 N-th bit 为符号位, 0 为正,\n",
    "1 为负. 对于任意一个非负整数, 它的相反数为 its complement with respect to $2^N$.\n",
    "\n",
    "# properties\n",
    "\n",
    "-   一个数字的 two's complement 可以通过:\n",
    "    1.  take its ones' complement and add one.\n",
    "        因为: the sum of a number and its ones' complement is -0, i.e. ‘1’ bits, or $2^N-1$;\n",
    "        and by definition, the sum of a number and its two's complement is $2^N$.\n",
    "    2.  通过定义中的 unsigned binary arithmetic 计算得出.\n",
    "-   The value of A N-bit binary number in two's complement numercal system can be computed by\n",
    "    $$w = -a_{N-1} 2^{N-1} + \\sum_{i=0}^{N-2} a_i 2^i$$. 推导: 对于互为相反数的 $A$ 和 $B$,\n",
    "    已知:\n",
    "    $$\n",
    "    \\begin{align}\n",
    "        A + B &= 0 \\\\\n",
    "        A &= \\sim B + 1\n",
    "    \\end{align}\n",
    "    $$\n",
    "    第二式为 two's complement 和 ones' complement 的关系.\n",
    "    根据第二式得到\n",
    "    $$\n",
    "    A=1+\\sum_{i=0}^{N-1}(1-b_i)2^i\n",
    "    $$\n",
    "    对于 N-bit number system, $A+B=0$ 意味着\n",
    "    $$(A+B) \\operatorname{mod} 2^N = 0$$\n",
    "    满足上式的 $B$ 有两种设计方式:\n",
    "    $$\n",
    "    \\begin{align}\n",
    "        B &= b_{N-1}2^{N-1} + \\sum_{i=0}^{N-2}b_i 2^i \\\\\n",
    "        B &= -b_{N-1}2^{N-1} + \\sum_{i=0}^{N-2}b_i 2^i\n",
    "    \\end{align}\n",
    "    $$\n",
    "    分别对应于 unsigned number 和 signed number 的数值公式.\n",
    "-   most negative number, `INT_MIN`. 它没有可以在系统内表达的相反数. 因为正负数范围的不对称性.\n",
    "    根据 two's complement 的定义计算 `INT_MIN` 得到的是自身, 这显然是不对的.\n",
    "-   加减法. 普通的二进制加减法运算即可, 没有特殊处理. \n",
    "-   加减法的溢出检测. an XOR operation on leftmost two carry/borrow bits can quickly determine\n",
    "    if an overflow condition exists.\n",
    "\n"
   ]
  },
  {
   "cell_type": "code",
   "execution_count": null,
   "metadata": {},
   "outputs": [],
   "source": []
  }
 ],
 "metadata": {
  "kernelspec": {
   "display_name": "Python 3",
   "language": "python",
   "name": "python3"
  },
  "language_info": {
   "codemirror_mode": {
    "name": "ipython",
    "version": 3
   },
   "file_extension": ".py",
   "mimetype": "text/x-python",
   "name": "python",
   "nbconvert_exporter": "python",
   "pygments_lexer": "ipython3",
   "version": "3.6.4"
  }
 },
 "nbformat": 4,
 "nbformat_minor": 2
}
