{
 "cells": [
  {
   "cell_type": "markdown",
   "metadata": {},
   "source": [
    "# overview\n",
    "-   ones' complement system is a binary numerical system.\n",
    "\n",
    "# definition\n",
    "数值定义. 对于一个 N bit 的 ones' complement number system,\n",
    "最高位 N-th bit 为符号位, 0 为正, 1 为负. 对于任意一个非负整数,\n",
    "它的相反数为 the bitwise NOT result (bit complement) of the binary\n",
    "representation of the positive number.\n",
    "\n",
    "# naming\n",
    "Why is it called ones' complement?\n",
    "因为, 以上的负数定义, 相当于计算:\n",
    "```\n",
    "-x = -0 - x\n",
    "```\n",
    "其中, `-0 == 111...`, x 是相应的正数. 即 -x 等于 x's complement with respect\n",
    "to `111...`.\n",
    "\n",
    "# properties\n",
    "-   这样定义的重要影响是, 存在 +0 和 -0 两个零. 这根本上导致了很多不自然的\n",
    "    计算问题 (见下述). 因此在现代计算机中, 没有使用这个数字系统.\n",
    "-   对于 N-bit, 可表示的数值范围是关于零点对称的: $-(2^(N-1)-1) ~ (2^(N-1)-1)$.\n",
    "-   由于存在 2 个 0, N-bit 可表达的数字为 $2^N-1$ 个.\n",
    "-   加法性质. 在一般的二进制加法基础上, 存在 end-around carry. 这指的是, 如果\n",
    "    计算中需要进位, 并进位到了并不存在的 N+1 bit, 这个 1 需要加到计算结果中.\n",
    "    ```\n",
    "          binary    decimal\n",
    "        11111110     –1\n",
    "     +  00000010     +2\n",
    "     ───────────     ──\n",
    "      1 00000000      0   ← Not the correct answer\n",
    "               1     +1   ← Add carry\n",
    "     ───────────     ──\n",
    "        00000001      1   ← Correct answer\n",
    "    ```\n",
    "-   减法性质. 在一般的二进制减法基础上, 存在 end-around borrow. 这与上面类似,\n",
    "    如果计算中需要借位, 并需要从并不存在的 N+1 bit 借位, 这个 1 最终要从结果中\n",
    "    减去.\n",
    "    ```\n",
    "      0000 0110      6\n",
    "    − 0001 0011     19\n",
    "    ===========   ====\n",
    "    1 1111 0011    −12    —An end-around borrow is produced, and the sign bit of the intermediate result is 1.\n",
    "    − 0000 0001      1    —Subtract the end-around borrow from the result.\n",
    "    ===========   ====\n",
    "      1111 0010    −13    —The correct result (6 − 19 = -13)\n",
    "    ```\n",
    "## 解释\n",
    "-   为什么需要 end-around carry/borrow?\n",
    "\n",
    "    首先, 所谓一般的二进制加法计算, 就是类似于标准的 10 进制加法\n",
    "    方法进行计算. 只是将 base 变成 2. 加法需要 end-around carry 是因为\n",
    "    对于 N 个 bit, 一般是有 $2^N$ 个数字, 加法进位至 N+1 bit 时, 等于是多了\n",
    "    $2^N$, 而 ones' complement 系统中只有 $2^N-1$ 个数, 进位至 N+1 bit 时,\n",
    "    只加上了 $2^N-1$ 个数 (由于经过了 2 个 0), 这样在结果中就少算了一个数,\n",
    "    所以最后要加上.\n",
    "\n",
    "    对于减法, 类似地, 减了两遍 0, 少减 1 个, 所以需要再减 1.\n",
    "\n"
   ]
  },
  {
   "cell_type": "code",
   "execution_count": null,
   "metadata": {},
   "outputs": [],
   "source": []
  }
 ],
 "metadata": {
  "kernelspec": {
   "display_name": "Python 3",
   "language": "python",
   "name": "python3"
  },
  "language_info": {
   "codemirror_mode": {
    "name": "ipython",
    "version": 3
   },
   "file_extension": ".py",
   "mimetype": "text/x-python",
   "name": "python",
   "nbconvert_exporter": "python",
   "pygments_lexer": "ipython3",
   "version": "3.6.4"
  }
 },
 "nbformat": 4,
 "nbformat_minor": 2
}
