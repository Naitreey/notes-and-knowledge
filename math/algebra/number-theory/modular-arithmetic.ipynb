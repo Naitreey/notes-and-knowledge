{
 "cells": [
  {
   "cell_type": "markdown",
   "metadata": {},
   "source": [
    "-   description: modular arithmetic is a system of arithmetic for integers, where\n",
    "    numbers \"wrap around\" upon reaching the value which is called modulus.\n",
    "\n",
    "    注意, 在 modular arithmetic 的概念中, 不存在进位. 达到 modulus 之后, 就回到\n",
    "    原点.\n",
    "\n",
    "-   For a positive integer $n$, two numbers $a$ and $b$ are said to\n",
    "    be congruent modulo $n$, if their difference $a - b$ is an integer multiple\n",
    "    of $n$.\n",
    "    $$a \\equiv b \\;\\; (\\operatorname{mod} n)$$\n",
    "    注意这里意思是 $a$ 全等于 $b$, 在 $(\\operatorname{mod} n)$ 运算下.\n",
    "    $a$ 和 $b$ 可以都需要进行 modulo 操作, 并不要求 $0 \\le a \\lt n$.\n",
    "\n",
    "    相对应地, the operation\n",
    "    $$a = b \\operatorname{mod} n$$\n",
    "    is the modulo operation. 此时 $0 \\le a \\lt n$.\n",
    "\n",
    "    $n$ is called the modulus of the congruence.\n",
    "\n"
   ]
  }
 ],
 "metadata": {
  "kernelspec": {
   "display_name": "Python 3",
   "language": "python",
   "name": "python3"
  },
  "language_info": {
   "codemirror_mode": {
    "name": "ipython",
    "version": 3
   },
   "file_extension": ".py",
   "mimetype": "text/x-python",
   "name": "python",
   "nbconvert_exporter": "python",
   "pygments_lexer": "ipython3",
   "version": "3.6.5"
  }
 },
 "nbformat": 4,
 "nbformat_minor": 2
}
