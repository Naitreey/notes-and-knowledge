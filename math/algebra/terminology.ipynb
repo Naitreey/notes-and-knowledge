{
 "cells": [
  {
   "cell_type": "markdown",
   "metadata": {},
   "source": [
    "-   多项式的阶数与命名:\n",
    "\n",
    "    *   1 阶, 线性, linear.\n",
    "    *   2 阶, quadratic. 注意虽然 quad means 4, but quadratic means 2. 这是因为\n",
    "        2 阶和 3 阶方程起源于对 square 和 cube 的研究. In Latin, the word \"quadrus\" \n",
    "        means a square (because it has four sides). 从而得名. 可以理解 quadratic\n",
    "        表示 \"关于方形的\".\n",
    "    *   3 阶, cubic, 来源见上.\n",
    "    *   4 阶, quartic.\n",
    "    *   5 阶, quintic.\n",
    "\n",
    "    See also [Names of Polynomials](http://mathforum.org/library/drmath/view/52572.html)\n",
    "\n"
   ]
  }
 ],
 "metadata": {
  "kernelspec": {
   "display_name": "Python 3",
   "language": "python",
   "name": "python3"
  },
  "language_info": {
   "codemirror_mode": {
    "name": "ipython",
    "version": 3
   },
   "file_extension": ".py",
   "mimetype": "text/x-python",
   "name": "python",
   "nbconvert_exporter": "python",
   "pygments_lexer": "ipython3",
   "version": "3.7.0"
  }
 },
 "nbformat": 4,
 "nbformat_minor": 2
}
