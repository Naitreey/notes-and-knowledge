{
 "cells": [
  {
   "cell_type": "markdown",
   "metadata": {},
   "source": [
    "# Q.E.D.\n",
    "\n",
    "Latin for \"end of proof\". Common notation is $\\square$.\n",
    "\n",
    "# Calculus\n",
    "\n",
    "## Leibniz's notation\n",
    "\n",
    "-   derivative: $$\\frac{\\operatorname d y}{\\operatorname d x}$$\n",
    "-   higher order: $$\\frac{\\operatorname d^n y}{\\operatorname  d x^n}$$\n",
    "-   derivative at point $a$: $$\\left.\\frac{\\operatorname d y}{\\operatorname d x}\\right|_{x=a} = \\frac{\\operatorname d y}{\\operatorname d x}(a)$$\n",
    "-   integral: $$\\begin{align}\n",
    "                                                    \\int y\\,dx &= \\int f(x)\\,dx = F(x) + C_1 \\\\\n",
    "                                             \\int \\int y\\,dx^2 &= \\int \\left ( \\int y\\,dx \\right ) dx = \\int_{X\\times X} f(x)\\,dx = \\int F(x)\\,dx = g(x) + C_2 \\\\\n",
    "  \\underbrace{\\int \\dots \\int}_n y\\,\\underbrace{dx \\dots dx}_n &= \\int_{\\underbrace{X\\times\\cdots\\times X}_n} f(x)\\,dx = \\int s(x)\\,dx = S(x) + C_n\n",
    "\\end{align}$$\n",
    "\n",
    "## Lagrange's notation\n",
    "\n",
    "-   derivative: $$f'(x)$$\n",
    "-   higher order: $$f''(x), f'''(x), f^{(n)}(x)$$\n",
    "\n",
    "## Euler's notation\n",
    "\n",
    "-   derivative: $$\\operatorname D f$$\n",
    "-   higher order: $$\\operatorname D^n f$$\n",
    "\n",
    "## Newton's notation\n",
    "\n",
    "-   derivative: $$\\dot{y}$$\n",
    "-   higher order: $$\\ddot{y}$$\n",
    "\n",
    "## partial derivative\n",
    "\n",
    "$$\\frac{\\partial f}{\\partial x}, \\operatorname D_{xy}f,\n",
    "\\partial_x f, f_{xy}$$"
   ]
  },
  {
   "cell_type": "code",
   "execution_count": null,
   "metadata": {},
   "outputs": [],
   "source": []
  }
 ],
 "metadata": {
  "kernelspec": {
   "display_name": "Python 3",
   "language": "python",
   "name": "python3"
  },
  "language_info": {
   "codemirror_mode": {
    "name": "ipython",
    "version": 3
   },
   "file_extension": ".py",
   "mimetype": "text/x-python",
   "name": "python",
   "nbconvert_exporter": "python",
   "pygments_lexer": "ipython3",
   "version": "3.6.4"
  }
 },
 "nbformat": 4,
 "nbformat_minor": 2
}
