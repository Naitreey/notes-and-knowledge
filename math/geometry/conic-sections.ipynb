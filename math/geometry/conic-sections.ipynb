{
 "cells": [
  {
   "cell_type": "markdown",
   "metadata": {},
   "source": [
    "# Etymology\n",
    "-   圆锥曲线的语源学.\n",
    "\n",
    "    *   ellipse/ellipsis, parabola/parable, hyperbola/hyperbole. 这些词都来自古\n",
    "        希腊语. 对于每组, 在 Greek 中是同一个词.\n",
    "\n",
    "    *   圆、椭圆、抛物线、双曲线都是切割圆锥得到的. 对于抛物线, 是平行于圆锥斜边\n",
    "        切割得到; 椭圆和双曲线分别是以小于斜边倾角和大于斜边倾角切割得到的.\n",
    "\n",
    "    *   在修辞学中, parabole 意为比较, 即 sets two terms side-by-side, 这对应于\n",
    "        平行之意; ellipsis 意为省略, 即 falls short of completion, 这对应于更小\n",
    "        的倾角; hyperbole 意为夸张, 即 speaks of something in excessive terms,\n",
    "        这对应于更大的倾角.\n",
    "\n",
    "    See also [Rhetoric vs. Mathematics: ellipsis/ellipse, parable/parabola, hyperbole/hyperbola](https://english.stackexchange.com/questions/175756/rhetoric-vs-mathematics-ellipsis-ellipse-parable-parabola-hyperbole-hyperbol)\n",
    "\n"
   ]
  }
 ],
 "metadata": {
  "kernelspec": {
   "display_name": "Python 3",
   "language": "python",
   "name": "python3"
  },
  "language_info": {
   "codemirror_mode": {
    "name": "ipython",
    "version": 3
   },
   "file_extension": ".py",
   "mimetype": "text/x-python",
   "name": "python",
   "nbconvert_exporter": "python",
   "pygments_lexer": "ipython3",
   "version": "3.7.0"
  }
 },
 "nbformat": 4,
 "nbformat_minor": 2
}
